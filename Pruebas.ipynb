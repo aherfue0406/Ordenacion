{
 "cells": [
  {
   "cell_type": "code",
   "execution_count": 2,
   "metadata": {},
   "outputs": [],
   "source": [
    "import pygame"
   ]
  },
  {
   "cell_type": "code",
   "execution_count": 3,
   "metadata": {},
   "outputs": [],
   "source": [
    "import pygame_widgets"
   ]
  },
  {
   "cell_type": "code",
   "execution_count": 5,
   "metadata": {},
   "outputs": [
    {
     "name": "stdout",
     "output_type": "stream",
     "text": [
      "Click\n",
      "Click\n",
      "Click\n",
      "Click\n",
      "Click\n",
      "Click\n"
     ]
    }
   ],
   "source": [
    "from pygame_widgets.button import Button \n",
    "pygame.init()\n",
    "win = pygame.display.set_mode((600,600))\n",
    "button = Button(\n",
    "    win, 100, 100, 300, 150,\n",
    "    text = 'hola', fontSize=50, margin=20, inactiveColour=(200, 50, 0),\n",
    "    hoverColour=(150, 0,0 ), pressedColour=(0, 200, 20), radius=20,\n",
    "    onClick=lambda: print('Click')\n",
    ")\n",
    "\n",
    "run = True\n",
    "while run:\n",
    "    events = pygame.event.get()\n",
    "    for event in events:\n",
    "        if event.type == pygame.QUIT:\n",
    "            pygame.quit()\n",
    "            run = False\n",
    "            break\n",
    "    if run==False:\n",
    "        break\n",
    "    win.fill((255, 255, 255))\n",
    "\n",
    "    pygame_widgets.update(events)\n",
    "    pygame.display.update()"
   ]
  }
 ],
 "metadata": {
  "kernelspec": {
   "display_name": "Python 3.11.4 ('base')",
   "language": "python",
   "name": "python3"
  },
  "language_info": {
   "codemirror_mode": {
    "name": "ipython",
    "version": 3
   },
   "file_extension": ".py",
   "mimetype": "text/x-python",
   "name": "python",
   "nbconvert_exporter": "python",
   "pygments_lexer": "ipython3",
   "version": "3.11.4"
  },
  "orig_nbformat": 4,
  "vscode": {
   "interpreter": {
    "hash": "fd38175e8210284086863ac05d670640dccce2b22c628628e2b35d727f9de82b"
   }
  }
 },
 "nbformat": 4,
 "nbformat_minor": 2
}
